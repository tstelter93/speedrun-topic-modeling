{
 "cells": [
  {
   "cell_type": "code",
   "execution_count": 33,
   "metadata": {},
   "outputs": [
    {
     "name": "stdout",
     "output_type": "stream",
     "text": [
      "{'archived': True,\n",
      " 'author': 'intheblue',\n",
      " 'author_flair_css_class': '',\n",
      " 'author_flair_text': 'Hotline Miami, Spider Solitare',\n",
      " 'created': 1417395407,\n",
      " 'created_utc': '1417395407',\n",
      " 'distinguished': None,\n",
      " 'domain': 'twitch.tv',\n",
      " 'downs': 0,\n",
      " 'edited': False,\n",
      " 'from': None,\n",
      " 'from_id': None,\n",
      " 'from_kind': None,\n",
      " 'gilded': 0,\n",
      " 'hide_score': False,\n",
      " 'id': '2nw69z',\n",
      " 'is_self': False,\n",
      " 'link_flair_css_class': None,\n",
      " 'link_flair_text': None,\n",
      " 'media': {'oembed': {'description': 'Recorded live on an hour ago',\n",
      "                      'height': 300,\n",
      "                      'html': '&lt;iframe class=\"embedly-embed\" '\n",
      "                              'src=\"//cdn.embedly.com/widgets/media.html?src=http%3A%2F%2Fwww.twitch.tv%2Fwidgets%2Flive_embed_player.swf%3Fchannel%3Ddingodroles&amp;fv=hostname%3Dwww.twitch.tv%26start_volume%3D25%26channel%3Ddingodrole%26auto_play%3Dfalse&amp;url=http%3A%2F%2Fwww.twitch.tv%2Fdingodrole%2Fc%2F5593916&amp;image=http%3A%2F%2Fstatic-cdn.jtvnw.net%2Fjtv_user_pictures%2Fpanel-31452198-image-6e137cc829bea5a9-320.jpeg&amp;key=2aa3c4d5f3de4f5b9120b660ad850dc9&amp;type=application%2Fx-shockwave-flash&amp;schema=twitch\" '\n",
      "                              'width=\"400\" height=\"300\" scrolling=\"no\" '\n",
      "                              'frameborder=\"0\" '\n",
      "                              'allowfullscreen&gt;&lt;/iframe&gt;',\n",
      "                      'provider_name': 'Twitch.tv',\n",
      "                      'provider_url': 'http://www.twitch.tv',\n",
      "                      'thumbnail_height': 240,\n",
      "                      'thumbnail_url': 'http://static-cdn.jtvnw.net/jtv.thumbs/archive-594375235-320x240.jpg',\n",
      "                      'thumbnail_width': 320,\n",
      "                      'title': 'Hotline Miami any% NG ( 20:16 )',\n",
      "                      'type': 'video',\n",
      "                      'version': '1.0',\n",
      "                      'width': 400},\n",
      "           'type': 'twitch.tv'},\n",
      " 'media_embed': {'content': '&lt;iframe class=\"embedly-embed\" '\n",
      "                            'src=\"//cdn.embedly.com/widgets/media.html?src=http%3A%2F%2Fwww.twitch.tv%2Fwidgets%2Flive_embed_player.swf%3Fchannel%3Ddingodroles&amp;fv=hostname%3Dwww.twitch.tv%26start_volume%3D25%26channel%3Ddingodrole%26auto_play%3Dfalse&amp;url=http%3A%2F%2Fwww.twitch.tv%2Fdingodrole%2Fc%2F5593916&amp;image=http%3A%2F%2Fstatic-cdn.jtvnw.net%2Fjtv_user_pictures%2Fpanel-31452198-image-6e137cc829bea5a9-320.jpeg&amp;key=2aa3c4d5f3de4f5b9120b660ad850dc9&amp;type=application%2Fx-shockwave-flash&amp;schema=twitch\" '\n",
      "                            'width=\"400\" height=\"300\" scrolling=\"no\" '\n",
      "                            'frameborder=\"0\" '\n",
      "                            'allowfullscreen&gt;&lt;/iframe&gt;',\n",
      "                 'height': 300,\n",
      "                 'scrolling': False,\n",
      "                 'width': 400},\n",
      " 'name': 't3_2nw69z',\n",
      " 'num_comments': 6,\n",
      " 'over_18': False,\n",
      " 'permalink': '/r/speedrun/comments/2nw69z/wrhotline_miami_any_ng_in_2016_by_dingodrole/',\n",
      " 'quarantine': False,\n",
      " 'retrieved_on': 1441043841,\n",
      " 'saved': False,\n",
      " 'score': 37,\n",
      " 'secure_media': None,\n",
      " 'secure_media_embed': {},\n",
      " 'selftext': '',\n",
      " 'stickied': False,\n",
      " 'subreddit': 'speedrun',\n",
      " 'subreddit_id': 't5_2sf9e',\n",
      " 'thumbnail': 'http://b.thumbs.redditmedia.com/8eH-7LJF0WhS59rAEiPwqtxlVpWGdTJ_dmliPHSZQXU.jpg',\n",
      " 'title': '[WR]Hotline Miami Any% NG in 20:16 by Dingodrole',\n",
      " 'ups': 37,\n",
      " 'url': 'http://www.twitch.tv/dingodrole/c/5593916'}\n"
     ]
    }
   ],
   "source": [
    "# Import the Data\n",
    "import json\n",
    "from pprint import pprint\n",
    "\n",
    "#Read in submissions\n",
    "with open('r_data/RS_2014-12_speedrun.json', 'r', encoding='utf-8') as file:\n",
    "    submission_dataset = json.loads(file.read())\n",
    "\n",
    "# Read in comments\n",
    "with open('r_data/RC_2014-12_speedrun.json', 'r', encoding='utf-8') as file:\n",
    "    comment_dataset = json.loads(file.read())\n",
    "\n",
    "file.close()\n",
    "#pprint(type(submission_dataset))\n",
    "pprint(submission_dataset[0])\n",
    "#pprint(comment_dataset[0])"
   ]
  },
  {
   "cell_type": "code",
   "execution_count": 32,
   "metadata": {},
   "outputs": [
    {
     "name": "stdout",
     "output_type": "stream",
     "text": [
      "Submission 0:  \n",
      "{'id': '2nw69z', 'title': '[WR]Hotline Miami Any% NG in 20:16 by Dingodrole', 'selftext': '', 'score': 37, 'num_comments': 6}\n",
      "\n",
      "\n",
      "Comment 0:  \n",
      "{'parent_id': 't3_2nvw48', 'body': 'this only beats my PB time by around a minute :/ a TAS of this should be pretty close to 48:30 easily...', 'score': 6}\n"
     ]
    }
   ],
   "source": [
    "# Data preporcessing part 1\n",
    "# We curate the tags we want.       \n",
    "\n",
    "# process submission\n",
    "info = {}\n",
    "submission_dataset_two = []\n",
    "for dictionary in submission_dataset:\n",
    "    info = {\n",
    "        \"id\":            dictionary.get('id'),\n",
    "        \"title\":         dictionary.get('title'),\n",
    "        \"selftext\":      dictionary.get('selftext'),\n",
    "        \"score\":         dictionary.get('score'),\n",
    "        \"num_comments\":  dictionary.get('num_comments')\n",
    "    }\n",
    "    submission_dataset_two.append(info)\n",
    "print(\"Submission 0:  \")\n",
    "print(submission_dataset_two[0])\n",
    "print(\"\\n\")\n",
    "\n",
    "info_two = {}\n",
    "comment_dataset_two = []\n",
    "for dictionary in comment_dataset:\n",
    "    info_two = {\n",
    "        \"parent_id\": dictionary.get('parent_id'),\n",
    "        \"body\":      dictionary.get('body'),\n",
    "        \"score\":     dictionary.get('score')\n",
    "    }\n",
    "    comment_dataset_two.append(info_two)\n",
    "print(\"Comment 0:  \")\n",
    "print(comment_dataset_two[0])\n",
    "\n",
    "with open('r_data/sub_data.json', 'w', encoding='utf-8') as file:\n",
    "    json.dump(submission_dataset_two, file, ensure_ascii=False, indent=4)\n",
    "\n",
    "with open('r_data/com_data.json', 'w', encoding='utf-8') as file:\n",
    "    json.dump(comment_dataset_two, file, ensure_ascii=False, indent=4)\n",
    "    \n",
    "file.close()"
   ]
  },
  {
   "cell_type": "code",
   "execution_count": null,
   "metadata": {},
   "outputs": [],
   "source": [
    "# Data preporcessing part 2\n",
    "# We need to remove anything that has dead data -- like removed, unreconizable words\n"
   ]
  },
  {
   "cell_type": "code",
   "execution_count": null,
   "metadata": {},
   "outputs": [],
   "source": [
    "# Topic model LDA\n",
    "# First attempt is to use Sub title + self text to generate topics\n",
    "# Second attempt is to use just sub title + comments\n",
    "# third attempt is just look at comments\n",
    "# fourth is title + self text + comments\n",
    "#Read in curated submissions\n",
    "\n",
    "\n",
    "\n",
    "with open('r_data/sub_data.json', 'r', encoding='utf-8') as file:\n",
    "    submission_dataset_three = json.loads(file.read())\n",
    "\n",
    "#Read in curated comments\n",
    "# with open('r_data/com_data.json', 'r', encoding='utf-8') as file:\n",
    "#     comment_dataset_three = json.loads(file.read())\n",
    "\n"
   ]
  },
  {
   "cell_type": "code",
   "execution_count": null,
   "metadata": {},
   "outputs": [],
   "source": [
    "# Print words -- manually look at topics"
   ]
  }
 ],
 "metadata": {
  "kernelspec": {
   "display_name": "Python 3",
   "language": "python",
   "name": "python3"
  },
  "language_info": {
   "codemirror_mode": {
    "name": "ipython",
    "version": 3
   },
   "file_extension": ".py",
   "mimetype": "text/x-python",
   "name": "python",
   "nbconvert_exporter": "python",
   "pygments_lexer": "ipython3",
   "version": "3.7.4"
  }
 },
 "nbformat": 4,
 "nbformat_minor": 2
}
